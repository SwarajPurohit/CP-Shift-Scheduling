{
 "cells": [
  {
   "cell_type": "code",
   "execution_count": 1,
   "metadata": {},
   "outputs": [],
   "source": [
    "import pandas as pd\n",
    "import numpy as np\n",
    "from datetime import datetime, date, timedelta\n",
    "import matplotlib.pyplot as plt\n",
    "import pulp\n",
    "from time import time"
   ]
  },
  {
   "cell_type": "markdown",
   "metadata": {},
   "source": [
    "### Load and preprocess data"
   ]
  },
  {
   "cell_type": "code",
   "execution_count": 5,
   "metadata": {},
   "outputs": [],
   "source": [
    "df = pd.read_excel('coffee coffee sales.xlsx')\n",
    "\n",
    "def combine(row):\n",
    "    \n",
    "    return datetime.combine(row['Date'], row['Time'])\n",
    "\n",
    "df['Datetime'] = df.apply(lambda x: combine(x), axis = 1)\n",
    "\n",
    "# Group every 30mins\n",
    "df = df.groupby(pd.Grouper(key = 'Datetime',freq='30Min')).sum()\n",
    "\n",
    "# Sales to employee count\n",
    "df['Employee Count'] = df['Sales']//110 +1\n",
    "df = df[df['Sales'] != 0]\n",
    "df.drop(columns = ['Sales'], inplace =True)\n",
    "df.reset_index(inplace=True)\n",
    "\n",
    "# Fill missing values\n",
    "missing = pd.DataFrame([[datetime.strptime('2020-03-31 06:00:00', '%Y-%m-%d %H:%M:%S'), 1], [datetime.strptime('2020-04-04 07:00:00', '%Y-%m-%d %H:%M:%S'),1]], columns = ['Datetime', 'Employee Count'])\n",
    "df = df.append(missing).sort_values(by = 'Datetime')\n",
    "df.reset_index(drop = True, inplace = True)\n",
    "\n",
    "# Convert time into a grid\n",
    "time_unit_dict = dict(zip(df['Datetime'].apply(lambda x: x.time()).unique(), range(20)))\n",
    "date_unit_dict = {29:0, 30:1, 31:2, 1:3, 2:4, 3:5, 4:6}\n",
    "\n",
    "def finite_time(x):\n",
    "    \n",
    "    date_unit = date_unit_dict[x.day]\n",
    "    time_unit = time_unit_dict[x.time()]\n",
    "    \n",
    "    return(date_unit, time_unit)\n",
    "\n",
    "df['Unittime'] = df['Datetime'].apply(lambda x: finite_time(x))"
   ]
  },
  {
   "cell_type": "markdown",
   "metadata": {},
   "source": [
    "### Constraint programming approach"
   ]
  },
  {
   "cell_type": "code",
   "execution_count": 3,
   "metadata": {},
   "outputs": [],
   "source": [
    "# define parameters \n",
    "num_days = 7\n",
    "num_time_units = 20\n",
    "num_emps = 4\n",
    "all_days = range(num_days)\n",
    "all_time_units = range(num_time_units)\n",
    "all_emps = range(num_emps)\n",
    "\n",
    "reqs = dict(zip(df['Unittime'], df['Employee Count']))\n",
    "\n",
    "# environment\n",
    "cube = []\n",
    "for i in range(num_days):\n",
    "    for j in range(num_time_units):\n",
    "        for k in range(num_emps):\n",
    "            cube.append([i,j,k])"
   ]
  },
  {
   "cell_type": "code",
   "execution_count": 4,
   "metadata": {},
   "outputs": [],
   "source": [
    "# Initialize model\n",
    "prob = pulp.LpProblem('CreateStaffing', pulp.LpMinimize)\n",
    "\n",
    "staffed = pulp.LpVariable.dicts(\"staffed\",\n",
    "                                   ((day, timeslot, staffmember) for day, timeslot, staffmember \n",
    "                                    in cube),\n",
    "                                     lowBound=0,\n",
    "                                     cat='Binary')"
   ]
  },
  {
   "cell_type": "code",
   "execution_count": 5,
   "metadata": {},
   "outputs": [],
   "source": [
    "# Cost                             \n",
    "prob += pulp.lpSum([staffed[day, timeslot, staffmember] for day, timeslot, staffmember in cube])"
   ]
  },
  {
   "cell_type": "code",
   "execution_count": 6,
   "metadata": {},
   "outputs": [],
   "source": [
    "# Constraint 1: Meet demand\n",
    "for day in all_days:\n",
    "    for timeslot in all_time_units:\n",
    "        prob += (sum([staffed[(day, timeslot, person)] for person in all_emps]) >= reqs[(day,timeslot)])"
   ]
  },
  {
   "cell_type": "code",
   "execution_count": 7,
   "metadata": {},
   "outputs": [],
   "source": [
    "# Constraint 2: Shifts must be continuous\n",
    "num_slots = max(all_time_units)\n",
    "for day in all_days:\n",
    "    for timeslot in all_time_units:\n",
    "        if timeslot < num_slots:\n",
    "            for person in all_emps:\n",
    "                prob += staffed[day, timeslot+1, person] <= staffed[day, timeslot, person] + \\\n",
    "                    (1 - (1./num_slots) *\n",
    "                     sum([staffed[(day, s, person)] for s in all_time_units if s < timeslot]))"
   ]
  },
  {
   "cell_type": "code",
   "execution_count": 8,
   "metadata": {},
   "outputs": [],
   "source": [
    "# Constraint 3: Shift length min 3hrs max 8.5 hrs\n",
    "for day in all_days:\n",
    "    for person in all_emps:\n",
    "        shift_length = sum(staffed[(day, timeslot, person)] for timeslot in all_time_units)\n",
    "        prob += (shift_length <= 17)\n",
    "        prob += (6 <= shift_length)"
   ]
  },
  {
   "cell_type": "code",
   "execution_count": 9,
   "metadata": {},
   "outputs": [],
   "source": [
    "# Constraint 4: Staff Should get minimal hours a week. Requirement split amongst 4.\n",
    "for person in all_emps:\n",
    "    total =[]\n",
    "    for day in all_days:\n",
    "        for timeslot in all_time_units:\n",
    "            total += staffed[(day, timeslot, person)]\n",
    "    prob += (total >= sum(reqs.values())//num_emps)       "
   ]
  },
  {
   "cell_type": "code",
   "execution_count": 10,
   "metadata": {},
   "outputs": [
    {
     "name": "stdout",
     "output_type": "stream",
     "text": [
      "Optimal\n"
     ]
    }
   ],
   "source": [
    "# solve\n",
    "prob.solve()\n",
    "print(pulp.LpStatus[prob.status])"
   ]
  },
  {
   "cell_type": "code",
   "execution_count": 11,
   "metadata": {},
   "outputs": [],
   "source": [
    "output = []\n",
    "for day, timeslot, staffmember in staffed:\n",
    "    var_output = {\n",
    "        'Day': day,\n",
    "        'Timeslot': timeslot,\n",
    "        'Staffmember': staffmember,\n",
    "        'Staffed': staffed[(day, timeslot, staffmember)].varValue,\n",
    "    }\n",
    "    output.append(var_output)\n",
    "output_df = pd.DataFrame.from_records(output)\n",
    "output_df = output_df[output_df['Staffed'] != 0]"
   ]
  },
  {
   "cell_type": "code",
   "execution_count": 12,
   "metadata": {},
   "outputs": [
    {
     "data": {
      "text/plain": [
       "247.0"
      ]
     },
     "execution_count": 12,
     "metadata": {},
     "output_type": "execute_result"
    }
   ],
   "source": [
    "pulp.value(prob.objective)"
   ]
  },
  {
   "cell_type": "code",
   "execution_count": 13,
   "metadata": {},
   "outputs": [],
   "source": [
    "output_df.to_csv('pulp_output.csv', index =False)"
   ]
  },
  {
   "cell_type": "markdown",
   "metadata": {},
   "source": [
    "### Testing"
   ]
  },
  {
   "cell_type": "code",
   "execution_count": 17,
   "metadata": {},
   "outputs": [],
   "source": [
    "for each in output_df.columns:\n",
    "    output_df[each] = output_df[each].apply(int)"
   ]
  },
  {
   "cell_type": "code",
   "execution_count": 23,
   "metadata": {},
   "outputs": [],
   "source": [
    "## Tests\n",
    "\n",
    "# shifts should be consecutive\n",
    "def time_slot_test(df):  \n",
    "    for day in all_days:\n",
    "        for person in all_emps:\n",
    "            l = list(df[(df['Day']==day) & (df['Staffmember'] == person)]['Timeslot'])\n",
    "            print(day,person)\n",
    "            print(sorted(l) == list(range(min(l), max(l)+1)))\n",
    "\n",
    "# Requirements are met            \n",
    "def req_test(df):\n",
    "    return False not in set(df.groupby(['Day', 'Timeslot']).sum()['Staffed'] >= np.array(list(reqs.values())))\n",
    "\n",
    "# Shift length\n",
    "def shift_length_test(df):\n",
    "    for day in all_days:\n",
    "        for person in all_emps:\n",
    "            l = list(df[(df['Day']==day) & (df['Staffmember'] == person)]['Timeslot'])  \n",
    "            print(6 <= len(l) <= 17)\n",
    "        "
   ]
  },
  {
   "cell_type": "code",
   "execution_count": 25,
   "metadata": {},
   "outputs": [
    {
     "name": "stdout",
     "output_type": "stream",
     "text": [
      "0 0\n",
      "True\n",
      "0 1\n",
      "True\n",
      "0 2\n",
      "True\n",
      "0 3\n",
      "True\n",
      "1 0\n",
      "True\n",
      "1 1\n",
      "True\n",
      "1 2\n",
      "True\n",
      "1 3\n",
      "True\n",
      "2 0\n",
      "True\n",
      "2 1\n",
      "True\n",
      "2 2\n",
      "True\n",
      "2 3\n",
      "True\n",
      "3 0\n",
      "True\n",
      "3 1\n",
      "True\n",
      "3 2\n",
      "True\n",
      "3 3\n",
      "True\n",
      "4 0\n",
      "True\n",
      "4 1\n",
      "True\n",
      "4 2\n",
      "True\n",
      "4 3\n",
      "True\n",
      "5 0\n",
      "True\n",
      "5 1\n",
      "True\n",
      "5 2\n",
      "True\n",
      "5 3\n",
      "True\n",
      "6 0\n",
      "True\n",
      "6 1\n",
      "True\n",
      "6 2\n",
      "True\n",
      "6 3\n",
      "True\n"
     ]
    }
   ],
   "source": [
    "time_slot_test(output_df)"
   ]
  },
  {
   "cell_type": "code",
   "execution_count": 38,
   "metadata": {},
   "outputs": [],
   "source": [
    "output_df.to_csv('pulp_final.csv',index=False)"
   ]
  },
  {
   "cell_type": "markdown",
   "metadata": {},
   "source": [
    "### Convert to required format"
   ]
  },
  {
   "cell_type": "code",
   "execution_count": 6,
   "metadata": {},
   "outputs": [],
   "source": [
    "output_df =  pd.read_csv('pulp_final.csv')\n",
    "output_df['Date'] = output_df.iloc[:,[0,1]].values.tolist()\n",
    "output_df['Date'] = output_df['Date'].apply(tuple)\n",
    "output_df.drop(columns = ['Day', 'Timeslot', 'Staffed'], inplace = True)\n",
    "\n",
    "output_df = pd.merge(output_df, df, left_on='Date', right_on='Unittime')\n",
    "output_df.drop(columns =['Date', 'Employee Count', 'Unittime'], inplace =True)\n",
    "output_df.set_index('Datetime', inplace = True)"
   ]
  },
  {
   "cell_type": "code",
   "execution_count": 7,
   "metadata": {},
   "outputs": [],
   "source": [
    "grouped = output_df.groupby(by = [output_df.index.day, 'Staffmember'])"
   ]
  },
  {
   "cell_type": "code",
   "execution_count": 8,
   "metadata": {},
   "outputs": [],
   "source": [
    "final_df = pd.DataFrame(columns = ['Date', 'Shift Start', 'Shift End'])\n",
    "for k,g in grouped:\n",
    "    final_df = pd.concat([final_df, pd.DataFrame({'Date':[g.index[0].date()], 'Shift Start':[g.index.min().time()], 'Shift End':[g.index.max().time()]})])"
   ]
  },
  {
   "cell_type": "code",
   "execution_count": 9,
   "metadata": {},
   "outputs": [],
   "source": [
    "def add_delta(tme, delta):\n",
    "    # transform to a full datetime first\n",
    "    return (datetime.combine(date.today(), tme) + \n",
    "            delta).time()"
   ]
  },
  {
   "cell_type": "code",
   "execution_count": 10,
   "metadata": {},
   "outputs": [],
   "source": [
    "final_df['Shift End']= final_df['Shift End'].apply(lambda x: add_delta(x, timedelta(minutes=30)))"
   ]
  },
  {
   "cell_type": "code",
   "execution_count": 11,
   "metadata": {},
   "outputs": [],
   "source": [
    "def diff_time(row):\n",
    "    x = row['Shift Start']\n",
    "    y = row['Shift End']\n",
    "    diff = datetime.combine(date.today(), y) - datetime.combine(date.today(), x)\n",
    "    return diff.total_seconds() / (3600)   "
   ]
  },
  {
   "cell_type": "code",
   "execution_count": 12,
   "metadata": {},
   "outputs": [],
   "source": [
    "final_df['delta'] = final_df.apply(lambda x: diff_time(x), axis = 1)"
   ]
  },
  {
   "cell_type": "code",
   "execution_count": 15,
   "metadata": {},
   "outputs": [],
   "source": [
    "final_df.sort_values(['Date', 'Shift Start'], inplace = True)"
   ]
  },
  {
   "cell_type": "code",
   "execution_count": 17,
   "metadata": {},
   "outputs": [],
   "source": [
    "final_df.to_csv('final.csv', index =False)"
   ]
  },
  {
   "cell_type": "code",
   "execution_count": null,
   "metadata": {},
   "outputs": [],
   "source": []
  }
 ],
 "metadata": {
  "kernelspec": {
   "display_name": "Python 3",
   "language": "python",
   "name": "python3"
  },
  "language_info": {
   "codemirror_mode": {
    "name": "ipython",
    "version": 3
   },
   "file_extension": ".py",
   "mimetype": "text/x-python",
   "name": "python",
   "nbconvert_exporter": "python",
   "pygments_lexer": "ipython3",
   "version": "3.7.4"
  }
 },
 "nbformat": 4,
 "nbformat_minor": 2
}
